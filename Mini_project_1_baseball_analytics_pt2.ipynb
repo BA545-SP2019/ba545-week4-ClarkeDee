{
 "cells": [
  {
   "cell_type": "markdown",
   "metadata": {},
   "source": [
    "# Mini Project #1: Baseball Analytics\n",
    "\n",
    "The overall purpose of this mini-project is to predicting MLB wins per season by modeling data to KMeans clustering model and linear regression models."
   ]
  },
  {
   "cell_type": "markdown",
   "metadata": {},
   "source": [
    "## Part 2: Further Data Handling\n",
    "\n",
    "In this part, you are going to conduct further data handling tasks to prepare your data for the analysis. The data handling include, but not limited to: \n",
    "- __feature engineering__, \n",
    "- more __data visualization__, \n",
    "- more on __binning your continuous variables__, \n",
    "- __correlation analysis__ and __correlation based feature selection__.\n",
    "\n",
    "Let's get started by importing the dependencies."
   ]
  },
  {
   "cell_type": "code",
   "execution_count": 1,
   "metadata": {
    "collapsed": true
   },
   "outputs": [],
   "source": [
    "import pandas as pd\n",
    "\n",
    "# We will need `numpy` in this part - so let's import it as well\n",
    "import numpy as np"
   ]
  },
  {
   "cell_type": "markdown",
   "metadata": {},
   "source": [
    "Now let's read the data we processed in Part1, and continue working on it."
   ]
  },
  {
   "cell_type": "code",
   "execution_count": 19,
   "metadata": {
    "collapsed": true
   },
   "outputs": [
    {
     "data": {
      "text/html": [
       "<div>\n",
       "<style scoped>\n",
       "    .dataframe tbody tr th:only-of-type {\n",
       "        vertical-align: middle;\n",
       "    }\n",
       "\n",
       "    .dataframe tbody tr th {\n",
       "        vertical-align: top;\n",
       "    }\n",
       "\n",
       "    .dataframe thead th {\n",
       "        text-align: right;\n",
       "    }\n",
       "</style>\n",
       "<table border=\"1\" class=\"dataframe\">\n",
       "  <thead>\n",
       "    <tr style=\"text-align: right;\">\n",
       "      <th></th>\n",
       "      <th>yearID</th>\n",
       "      <th>teamID</th>\n",
       "      <th>G</th>\n",
       "      <th>W</th>\n",
       "      <th>R</th>\n",
       "      <th>AB</th>\n",
       "      <th>H</th>\n",
       "      <th>2B</th>\n",
       "      <th>3B</th>\n",
       "      <th>HR</th>\n",
       "      <th>...</th>\n",
       "      <th>SV</th>\n",
       "      <th>IPouts</th>\n",
       "      <th>HA</th>\n",
       "      <th>HRA</th>\n",
       "      <th>BBA</th>\n",
       "      <th>SOA</th>\n",
       "      <th>E</th>\n",
       "      <th>DP</th>\n",
       "      <th>FP</th>\n",
       "      <th>Win_bins</th>\n",
       "    </tr>\n",
       "  </thead>\n",
       "  <tbody>\n",
       "    <tr>\n",
       "      <th>1</th>\n",
       "      <td>1962</td>\n",
       "      <td>LAA</td>\n",
       "      <td>162</td>\n",
       "      <td>86</td>\n",
       "      <td>718</td>\n",
       "      <td>5499</td>\n",
       "      <td>1377</td>\n",
       "      <td>232</td>\n",
       "      <td>35</td>\n",
       "      <td>137</td>\n",
       "      <td>...</td>\n",
       "      <td>47</td>\n",
       "      <td>4398</td>\n",
       "      <td>1412</td>\n",
       "      <td>118</td>\n",
       "      <td>616</td>\n",
       "      <td>858</td>\n",
       "      <td>175</td>\n",
       "      <td>153.0</td>\n",
       "      <td>0.972</td>\n",
       "      <td>3</td>\n",
       "    </tr>\n",
       "    <tr>\n",
       "      <th>2</th>\n",
       "      <td>1963</td>\n",
       "      <td>LAA</td>\n",
       "      <td>161</td>\n",
       "      <td>70</td>\n",
       "      <td>597</td>\n",
       "      <td>5506</td>\n",
       "      <td>1378</td>\n",
       "      <td>208</td>\n",
       "      <td>38</td>\n",
       "      <td>95</td>\n",
       "      <td>...</td>\n",
       "      <td>31</td>\n",
       "      <td>4365</td>\n",
       "      <td>1317</td>\n",
       "      <td>120</td>\n",
       "      <td>578</td>\n",
       "      <td>889</td>\n",
       "      <td>163</td>\n",
       "      <td>155.0</td>\n",
       "      <td>0.974</td>\n",
       "      <td>3</td>\n",
       "    </tr>\n",
       "    <tr>\n",
       "      <th>3</th>\n",
       "      <td>1964</td>\n",
       "      <td>LAA</td>\n",
       "      <td>162</td>\n",
       "      <td>82</td>\n",
       "      <td>544</td>\n",
       "      <td>5362</td>\n",
       "      <td>1297</td>\n",
       "      <td>186</td>\n",
       "      <td>27</td>\n",
       "      <td>102</td>\n",
       "      <td>...</td>\n",
       "      <td>41</td>\n",
       "      <td>4350</td>\n",
       "      <td>1273</td>\n",
       "      <td>100</td>\n",
       "      <td>530</td>\n",
       "      <td>965</td>\n",
       "      <td>138</td>\n",
       "      <td>168.0</td>\n",
       "      <td>0.978</td>\n",
       "      <td>3</td>\n",
       "    </tr>\n",
       "    <tr>\n",
       "      <th>4</th>\n",
       "      <td>1965</td>\n",
       "      <td>CAL</td>\n",
       "      <td>162</td>\n",
       "      <td>75</td>\n",
       "      <td>527</td>\n",
       "      <td>5354</td>\n",
       "      <td>1279</td>\n",
       "      <td>200</td>\n",
       "      <td>36</td>\n",
       "      <td>92</td>\n",
       "      <td>...</td>\n",
       "      <td>33</td>\n",
       "      <td>4323</td>\n",
       "      <td>1259</td>\n",
       "      <td>91</td>\n",
       "      <td>563</td>\n",
       "      <td>847</td>\n",
       "      <td>123</td>\n",
       "      <td>149.0</td>\n",
       "      <td>0.981</td>\n",
       "      <td>3</td>\n",
       "    </tr>\n",
       "    <tr>\n",
       "      <th>5</th>\n",
       "      <td>1966</td>\n",
       "      <td>CAL</td>\n",
       "      <td>162</td>\n",
       "      <td>80</td>\n",
       "      <td>604</td>\n",
       "      <td>5360</td>\n",
       "      <td>1244</td>\n",
       "      <td>179</td>\n",
       "      <td>54</td>\n",
       "      <td>122</td>\n",
       "      <td>...</td>\n",
       "      <td>40</td>\n",
       "      <td>4371</td>\n",
       "      <td>1364</td>\n",
       "      <td>136</td>\n",
       "      <td>511</td>\n",
       "      <td>836</td>\n",
       "      <td>136</td>\n",
       "      <td>186.0</td>\n",
       "      <td>0.979</td>\n",
       "      <td>3</td>\n",
       "    </tr>\n",
       "    <tr>\n",
       "      <th>6</th>\n",
       "      <td>1967</td>\n",
       "      <td>CAL</td>\n",
       "      <td>161</td>\n",
       "      <td>84</td>\n",
       "      <td>567</td>\n",
       "      <td>5307</td>\n",
       "      <td>1265</td>\n",
       "      <td>170</td>\n",
       "      <td>37</td>\n",
       "      <td>114</td>\n",
       "      <td>...</td>\n",
       "      <td>46</td>\n",
       "      <td>4290</td>\n",
       "      <td>1246</td>\n",
       "      <td>118</td>\n",
       "      <td>525</td>\n",
       "      <td>892</td>\n",
       "      <td>111</td>\n",
       "      <td>135.0</td>\n",
       "      <td>0.982</td>\n",
       "      <td>3</td>\n",
       "    </tr>\n",
       "    <tr>\n",
       "      <th>7</th>\n",
       "      <td>1968</td>\n",
       "      <td>CAL</td>\n",
       "      <td>162</td>\n",
       "      <td>67</td>\n",
       "      <td>498</td>\n",
       "      <td>5331</td>\n",
       "      <td>1209</td>\n",
       "      <td>170</td>\n",
       "      <td>33</td>\n",
       "      <td>83</td>\n",
       "      <td>...</td>\n",
       "      <td>31</td>\n",
       "      <td>4311</td>\n",
       "      <td>1234</td>\n",
       "      <td>131</td>\n",
       "      <td>519</td>\n",
       "      <td>869</td>\n",
       "      <td>140</td>\n",
       "      <td>156.0</td>\n",
       "      <td>0.977</td>\n",
       "      <td>2</td>\n",
       "    </tr>\n",
       "    <tr>\n",
       "      <th>8</th>\n",
       "      <td>1969</td>\n",
       "      <td>CAL</td>\n",
       "      <td>163</td>\n",
       "      <td>71</td>\n",
       "      <td>528</td>\n",
       "      <td>5316</td>\n",
       "      <td>1221</td>\n",
       "      <td>151</td>\n",
       "      <td>29</td>\n",
       "      <td>88</td>\n",
       "      <td>...</td>\n",
       "      <td>39</td>\n",
       "      <td>4314</td>\n",
       "      <td>1294</td>\n",
       "      <td>126</td>\n",
       "      <td>517</td>\n",
       "      <td>885</td>\n",
       "      <td>135</td>\n",
       "      <td>164.0</td>\n",
       "      <td>0.978</td>\n",
       "      <td>3</td>\n",
       "    </tr>\n",
       "    <tr>\n",
       "      <th>9</th>\n",
       "      <td>1970</td>\n",
       "      <td>CAL</td>\n",
       "      <td>162</td>\n",
       "      <td>86</td>\n",
       "      <td>631</td>\n",
       "      <td>5532</td>\n",
       "      <td>1391</td>\n",
       "      <td>197</td>\n",
       "      <td>40</td>\n",
       "      <td>114</td>\n",
       "      <td>...</td>\n",
       "      <td>49</td>\n",
       "      <td>4386</td>\n",
       "      <td>1280</td>\n",
       "      <td>154</td>\n",
       "      <td>559</td>\n",
       "      <td>922</td>\n",
       "      <td>127</td>\n",
       "      <td>169.0</td>\n",
       "      <td>0.980</td>\n",
       "      <td>3</td>\n",
       "    </tr>\n",
       "  </tbody>\n",
       "</table>\n",
       "<p>9 rows × 30 columns</p>\n",
       "</div>"
      ],
      "text/plain": [
       "   yearID teamID    G   W    R    AB     H   2B  3B   HR    ...     SV IPouts  \\\n",
       "1    1962    LAA  162  86  718  5499  1377  232  35  137    ...     47   4398   \n",
       "2    1963    LAA  161  70  597  5506  1378  208  38   95    ...     31   4365   \n",
       "3    1964    LAA  162  82  544  5362  1297  186  27  102    ...     41   4350   \n",
       "4    1965    CAL  162  75  527  5354  1279  200  36   92    ...     33   4323   \n",
       "5    1966    CAL  162  80  604  5360  1244  179  54  122    ...     40   4371   \n",
       "6    1967    CAL  161  84  567  5307  1265  170  37  114    ...     46   4290   \n",
       "7    1968    CAL  162  67  498  5331  1209  170  33   83    ...     31   4311   \n",
       "8    1969    CAL  163  71  528  5316  1221  151  29   88    ...     39   4314   \n",
       "9    1970    CAL  162  86  631  5532  1391  197  40  114    ...     49   4386   \n",
       "\n",
       "     HA  HRA  BBA  SOA    E     DP     FP  Win_bins  \n",
       "1  1412  118  616  858  175  153.0  0.972         3  \n",
       "2  1317  120  578  889  163  155.0  0.974         3  \n",
       "3  1273  100  530  965  138  168.0  0.978         3  \n",
       "4  1259   91  563  847  123  149.0  0.981         3  \n",
       "5  1364  136  511  836  136  186.0  0.979         3  \n",
       "6  1246  118  525  892  111  135.0  0.982         3  \n",
       "7  1234  131  519  869  140  156.0  0.977         2  \n",
       "8  1294  126  517  885  135  164.0  0.978         3  \n",
       "9  1280  154  559  922  127  169.0  0.980         3  \n",
       "\n",
       "[9 rows x 30 columns]"
      ]
     },
     "execution_count": 19,
     "metadata": {},
     "output_type": "execute_result"
    }
   ],
   "source": [
    "df = pd.read_csv('baseball_analytics_pt1.csv', header=0, index_col=0)\n",
    "\n",
    "df.head()\n"
   ]
  },
  {
   "cell_type": "markdown",
   "metadata": {},
   "source": [
    "### Feature Engineering\n",
    "\n",
    "Anyone who follows the game of baseball knows that, as Major League Baseball (MLB) progressed, different eras emerged where the amount of runs per game increased or decreased significantly. The dead ball era of the early 1900s is an example of a low scoring era and the steroid era at the turn of the 21st century is an example of a high scoring era. Hence, in this analysis, we want to exclude all the game data before the year `1900`."
   ]
  },
  {
   "cell_type": "code",
   "execution_count": 3,
   "metadata": {
    "collapsed": true
   },
   "outputs": [],
   "source": [
    "#Filtering the years before year 1900\n",
    "\n",
    "#### Complete your code below\n",
    "#### You can filter by the value of a certain column `col` in a dataframe `df` as:\n",
    "#### df[df[col] > some_value]\n",
    "\n",
    "df['yearID'] > 1990\n",
    "   \n",
    "#### then you want to save the filtered results as a new dataframe `df`\n",
    "df= df['yearID'] > 1990\n"
   ]
  },
  {
   "cell_type": "markdown",
   "metadata": {},
   "source": [
    "If you are into baseball, you will know Runs per Game (RPG) is an important factor in the game results (winning or not). Since we do not have that feature in the dataset, we are going to create that feaure from the features we have. In the dataset `df`, we have the runs (`df['R']`) and games (`df['G']`) features. We are going to use them to create RPG.\n",
    "\n",
    "Firstly, we are doing the analysis on a yearly basis, so we need to aggregate the runs (`df['R']`) and games (`df['G']`) features to a yearly basis."
   ]
  },
  {
   "cell_type": "code",
   "execution_count": 7,
   "metadata": {
    "collapsed": true
   },
   "outputs": [
    {
     "ename": "TypeError",
     "evalue": "'method' object is not subscriptable",
     "output_type": "error",
     "traceback": [
      "\u001b[0;31m---------------------------------------------------------------------------\u001b[0m",
      "\u001b[0;31mTypeError\u001b[0m                                 Traceback (most recent call last)",
      "\u001b[0;32m<ipython-input-7-d6953c3a6f4d>\u001b[0m in \u001b[0;36m<module>\u001b[0;34m()\u001b[0m\n\u001b[1;32m      6\u001b[0m \u001b[0;31m#### since we want to aggregate to a yearly basis, we are going to use the feature `yearID`\u001b[0m\u001b[0;34m\u001b[0m\u001b[0;34m\u001b[0m\u001b[0m\n\u001b[1;32m      7\u001b[0m \u001b[0;31m#### and combine the `groupby()` results with `sum()` we will get the aggregated results\u001b[0m\u001b[0;34m\u001b[0m\u001b[0;34m\u001b[0m\u001b[0m\n\u001b[0;32m----> 8\u001b[0;31m \u001b[0mdf\u001b[0m\u001b[0;34m.\u001b[0m\u001b[0mgroupby\u001b[0m\u001b[0;34m[\u001b[0m\u001b[0;34m'yearID'\u001b[0m\u001b[0;34m]\u001b[0m\u001b[0;34m.\u001b[0m\u001b[0msum\u001b[0m\u001b[0;34m(\u001b[0m\u001b[0;34m)\u001b[0m\u001b[0;34m\u001b[0m\u001b[0m\n\u001b[0m\u001b[1;32m      9\u001b[0m \u001b[0;31m#### create a new pandas series called `runs_per_year`,\u001b[0m\u001b[0;34m\u001b[0m\u001b[0;34m\u001b[0m\u001b[0m\n\u001b[1;32m     10\u001b[0m \u001b[0;31m#### which is aggregating runs (`df['R']`) on a yearly basis\u001b[0m\u001b[0;34m\u001b[0m\u001b[0;34m\u001b[0m\u001b[0m\n",
      "\u001b[0;31mTypeError\u001b[0m: 'method' object is not subscriptable"
     ]
    }
   ],
   "source": [
    "# Aggregate runs and games data to a yearly basis\n",
    "\n",
    "#### complete the code below\n",
    "#### Aggregation is a very important technique in dataframes\n",
    "#### `pandas` provides a good method called `groupby()` for that\n",
    "#### since we want to aggregate to a yearly basis, we are going to use the feature `yearID`\n",
    "#### and combine the `groupby()` results with `sum()` we will get the aggregated results\n",
    "df.groupby['yearID'].sum()\n",
    "#### create a new pandas series called `runs_per_year`, \n",
    "#### which is aggregating runs (`df['R']`) on a yearly basis\n",
    "runs_per_year= df['R']\n",
    "\n",
    "#### do the same for games (`df['G']`)\n",
    "\n",
    "games_per_year= df['G']\n",
    "\n",
    "#### We need to combine these two series into a dataframe ('rpg_df') to calculate RPG\n",
    "#### We can do that by using the `pd.concat()` method provided by `pandas`\n",
    "#### Since we want the two series are columns, we need to set the parameter `axis=1` in `concat()`\n",
    "pd.concat(['rpg_df'], axis=1)\n",
    "\n",
    "#### Now we can calculate RPG: which is very simple: rpg = runs_per_year/games_per_year\n",
    "rpg = runs_per_year / games_per_year\n",
    "\n",
    "#### let's double check the values of `rpg_df` by looking at its first 10 values\n",
    "rpg_df.head(10)\n"
   ]
  },
  {
   "cell_type": "markdown",
   "metadata": {},
   "source": [
    "### More on Data Visualization\n",
    "\n",
    "Clearly, `rpg_df` is time series data - and in which the most important feature would be `rpg`. So we want to visulize it using line chart. `Matplotlib` has a useful method `plot()` for that purpose. We are going to use that for visualizing `rpg`.\n",
    "\n",
    "First let's import `matplotlib`."
   ]
  },
  {
   "cell_type": "code",
   "execution_count": 28,
   "metadata": {
    "collapsed": true
   },
   "outputs": [],
   "source": [
    "import matplotlib.pyplot as plt\n",
    "%matplotlib inline\n",
    "plt.style.use('ggplot')\n",
    "# following statement set a large canvas for the visualization\n",
    "plt.rcParams[\"figure.figsize\"] = (20,10)"
   ]
  },
  {
   "cell_type": "code",
   "execution_count": 29,
   "metadata": {
    "collapsed": true
   },
   "outputs": [
    {
     "ename": "SyntaxError",
     "evalue": "invalid syntax (<ipython-input-29-049487bbe3cd>, line 12)",
     "output_type": "error",
     "traceback": [
      "\u001b[0;36m  File \u001b[0;32m\"<ipython-input-29-049487bbe3cd>\"\u001b[0;36m, line \u001b[0;32m12\u001b[0m\n\u001b[0;31m    plot(rpg_df) use_index=yearID\u001b[0m\n\u001b[0m                         ^\u001b[0m\n\u001b[0;31mSyntaxError\u001b[0m\u001b[0;31m:\u001b[0m invalid syntax\n"
     ]
    }
   ],
   "source": [
    "\n",
    "#### Complete the code below\n",
    "#### use `plot()` method on `rpg_df`, and set y-axis as `rpg`.\n",
    "x= yearID\n",
    "y= rpg\n",
    "#### the x-axis in this plot will be years, and you should notice that \n",
    "#### 'yearID' is the index of `rpg_df`\n",
    "#### Instead of creating another column of `yearID` (which you can do),\n",
    "#### you can simply tell `plot()` to use the index of the dataframe/series by\n",
    "#### set the `use_index` parameter to `True`\n",
    "\n",
    "plot(rpg_df) use_index=yearID\n",
    "#### We want to set the title of the visualization as `MLB Yearly Runs Per Game`\n",
    "plt.title('MLB Yearly Runs Per Game')\n",
    "\n",
    "#### Set the y-axis as `Runs per Game` use `.xlabel()`\n",
    "\n",
    "plt.ylabel('Runs per Game')\n",
    "#### The x-axis is year - so we set it as `Years`\n",
    "plt.xlabel('Years')\n",
    "\n",
    "#### show the plot\n",
    "plt.show()\n"
   ]
  },
  {
   "cell_type": "markdown",
   "metadata": {},
   "source": [
    "There is an alternative way of doing what we just did , which is shown as following."
   ]
  },
  {
   "cell_type": "code",
   "execution_count": null,
   "metadata": {
    "collapsed": true
   },
   "outputs": [],
   "source": [
    "# Creating the runs per year and games per year \n",
    "\n",
    "## Use Goupby and sum the count yearly\n",
    "df.groupby(\"yearID\").sum()\n",
    "\n",
    "runs_per_year = {}\n",
    "games_per_year = {}\n",
    "\n",
    "for i, row in df.iterrows():\n",
    "    year=row['yearID']\n",
    "    runs=row['R']\n",
    "    games=row['G']\n",
    "    if year in runs_per_year:\n",
    "        runs_per_year[year]=runs_per_year[year]+ runs\n",
    "        games_per_year[year]=games_per_year[year]+ games\n",
    "    else:\n",
    "        runs_per_year[year]=runs\n",
    "        games_per_year[year]=games\n",
    "        \n",
    "## ADD notes to the print statement         \n",
    "print('Runs_per_year', runs_per_year)\n",
    "print(' Games_per_year', games_per_year)"
   ]
  },
  {
   "cell_type": "markdown",
   "metadata": {},
   "source": [
    "With these two dictionaries created, we can do the calculation using them."
   ]
  },
  {
   "cell_type": "code",
   "execution_count": null,
   "metadata": {
    "collapsed": true
   },
   "outputs": [],
   "source": [
    "# mlb runs per game (per year) dictionary \n",
    "runs_per_game = {}\n",
    "for k,v in games_per_year.items():\n",
    "    year = k \n",
    "    games = v\n",
    "    runs = runs_per_year[year]\n",
    "    runs_per_game[year]= runs/games\n",
    "    \n",
    "print(runs_per_game)"
   ]
  },
  {
   "cell_type": "markdown",
   "metadata": {},
   "source": [
    "__Note__: dictionaries would be a good alternative of `pandas` functions.\n",
    "\n",
    "Now let's visualize `runs_per_game` again using the dictionaries."
   ]
  },
  {
   "cell_type": "code",
   "execution_count": null,
   "metadata": {
    "collapsed": true
   },
   "outputs": [],
   "source": [
    "# Creating lists from mlb_runs_per_game\n",
    "## List of tuples (x, y) \n",
    "lists = sorted(runs_per_game.items())\n",
    "x,y = zip(*lists)\n",
    "\n",
    "plt.plot(x,y)\n",
    "plt.title(\"MLB Yearly Runs Per Game\")\n",
    "plt.xlabel(\"Year\")\n",
    "plt.ylabel(\"Runs per Game\")\n",
    "plt.legend('Runs_per_Game')\n",
    "plt.show()"
   ]
  },
  {
   "cell_type": "markdown",
   "metadata": {},
   "source": [
    "### More on Variable Binning\n",
    "\n",
    "Remember in part 1 we binned wins (`df['W']`) to a categorical variable - that was for making the analysis a __classification__ problem. Sometimes we also using binning for __dimensionality reduction__ purposes. For instance, the feature year (`df['yearID']`) has more than 100 distinct values, so its dimensionality will be 100+. A lot of machine learning algorithms do not like high-dimensional features, so it is a common practice to __bin high-dimensional features__.\n",
    "\n",
    "__Rule of thumb__: if a categorical feature has more than __5__ categories, you should consider bin it.\n",
    "\n",
    "In the block below, you are going to create your own function (`assign_label`) and apply it to your data (`df`).\n",
    "\n",
    "When a categorical variable is low-dimensional, we shoud create dummy variables for that. `pandas` provides a function called `get_dummies()` for that."
   ]
  },
  {
   "cell_type": "code",
   "execution_count": null,
   "metadata": {
    "collapsed": true
   },
   "outputs": [],
   "source": [
    "# define the `assign_label` function\n",
    "\n",
    "def assign_label(year):\n",
    "    if year < 1920:\n",
    "        return 1\n",
    "    elif year >= 1920 and year <= 1941:\n",
    "        return 2\n",
    "    elif year >= 1942 and year <= 1945:\n",
    "        return 3\n",
    "    elif year >= 1946 and year <= 1962:\n",
    "        return 4\n",
    "    elif year >= 1963 and year <= 1976:\n",
    "        return 5\n",
    "    elif year >= 1977 and year <= 1992:\n",
    "        return 6\n",
    "    elif year >= 1993 and year <= 2009:\n",
    "        return 7\n",
    "    elif year >= 2010:\n",
    "        return 8\n",
    "\n",
    "#### complete the code below\n",
    "#### Add `year_label` column to `df`\n",
    "df['year_label']\n",
    "#### by applying `assign_label` to the `df['yearID'] column\n",
    "df['label'] = df['yearID'].apply(assign_label)\n",
    "\n",
    "#### create dummy variables for `year_label`\n",
    "#### call `pd.get_dummies` on `df['year_label']`\n",
    "#### set the `prefix` parameter of `get_dummies` to `'era'`\n",
    "#### store the results in a dataframe `dummy_df`\n",
    "\n",
    "\n",
    "#### Concatenate `df` and `dummy_df` using pd.concat()\n",
    "pd.concat(df[dummy_df])\n",
    "\n",
    "#### Check whether the dummy variables are successfully created\n"
   ]
  },
  {
   "cell_type": "markdown",
   "metadata": {},
   "source": [
    "We can add  *Runs per Game* data from the `runs_per_game` dictionary to `df`."
   ]
  },
  {
   "cell_type": "code",
   "execution_count": null,
   "metadata": {
    "collapsed": true
   },
   "outputs": [],
   "source": [
    "# Create column for  runs per game from the runs_per_game dictionary\n",
    "def assign_rpg(year):\n",
    "    return runs_per_game[year]\n",
    "\n",
    "df['rpg'] = df['yearID'].apply(assign_rpg)\n",
    "df['rpg'].head()"
   ]
  },
  {
   "cell_type": "markdown",
   "metadata": {},
   "source": [
    "An alternative way of binning the `yearID` feature is to bin it by **decade**, then create dummy variables based on **dacades**. This can be done using following code."
   ]
  },
  {
   "cell_type": "code",
   "execution_count": 22,
   "metadata": {
    "collapsed": true
   },
   "outputs": [
    {
     "ename": "KeyError",
     "evalue": "'year_label'",
     "output_type": "error",
     "traceback": [
      "\u001b[0;31m---------------------------------------------------------------------------\u001b[0m",
      "\u001b[0;31mKeyError\u001b[0m                                  Traceback (most recent call last)",
      "\u001b[0;32m/opt/tljh/user/lib/python3.6/site-packages/pandas/core/indexes/base.py\u001b[0m in \u001b[0;36mget_loc\u001b[0;34m(self, key, method, tolerance)\u001b[0m\n\u001b[1;32m   3077\u001b[0m             \u001b[0;32mtry\u001b[0m\u001b[0;34m:\u001b[0m\u001b[0;34m\u001b[0m\u001b[0m\n\u001b[0;32m-> 3078\u001b[0;31m                 \u001b[0;32mreturn\u001b[0m \u001b[0mself\u001b[0m\u001b[0;34m.\u001b[0m\u001b[0m_engine\u001b[0m\u001b[0;34m.\u001b[0m\u001b[0mget_loc\u001b[0m\u001b[0;34m(\u001b[0m\u001b[0mkey\u001b[0m\u001b[0;34m)\u001b[0m\u001b[0;34m\u001b[0m\u001b[0m\n\u001b[0m\u001b[1;32m   3079\u001b[0m             \u001b[0;32mexcept\u001b[0m \u001b[0mKeyError\u001b[0m\u001b[0;34m:\u001b[0m\u001b[0;34m\u001b[0m\u001b[0m\n",
      "\u001b[0;32mpandas/_libs/index.pyx\u001b[0m in \u001b[0;36mpandas._libs.index.IndexEngine.get_loc\u001b[0;34m()\u001b[0m\n",
      "\u001b[0;32mpandas/_libs/index.pyx\u001b[0m in \u001b[0;36mpandas._libs.index.IndexEngine.get_loc\u001b[0;34m()\u001b[0m\n",
      "\u001b[0;32mpandas/_libs/hashtable_class_helper.pxi\u001b[0m in \u001b[0;36mpandas._libs.hashtable.PyObjectHashTable.get_item\u001b[0;34m()\u001b[0m\n",
      "\u001b[0;32mpandas/_libs/hashtable_class_helper.pxi\u001b[0m in \u001b[0;36mpandas._libs.hashtable.PyObjectHashTable.get_item\u001b[0;34m()\u001b[0m\n",
      "\u001b[0;31mKeyError\u001b[0m: 'year_label'",
      "\nDuring handling of the above exception, another exception occurred:\n",
      "\u001b[0;31mKeyError\u001b[0m                                  Traceback (most recent call last)",
      "\u001b[0;32m<ipython-input-22-f08c01127c50>\u001b[0m in \u001b[0;36m<module>\u001b[0;34m()\u001b[0m\n\u001b[1;32m     34\u001b[0m \u001b[0;31m#### store the results in a dataframe `decade_df`\u001b[0m\u001b[0;34m\u001b[0m\u001b[0;34m\u001b[0m\u001b[0m\n\u001b[1;32m     35\u001b[0m \u001b[0;34m\u001b[0m\u001b[0m\n\u001b[0;32m---> 36\u001b[0;31m \u001b[0mpd\u001b[0m\u001b[0;34m.\u001b[0m\u001b[0mget_dummies\u001b[0m\u001b[0;34m(\u001b[0m\u001b[0mdf\u001b[0m\u001b[0;34m[\u001b[0m\u001b[0;34m'year_label'\u001b[0m\u001b[0;34m]\u001b[0m\u001b[0;34m)\u001b[0m\u001b[0;34m\u001b[0m\u001b[0m\n\u001b[0m\u001b[1;32m     37\u001b[0m \u001b[0;34m\u001b[0m\u001b[0m\n\u001b[1;32m     38\u001b[0m \u001b[0;31m#### Concatenate `df` and `decade_df` using pd.concat()\u001b[0m\u001b[0;34m\u001b[0m\u001b[0;34m\u001b[0m\u001b[0m\n",
      "\u001b[0;32m/opt/tljh/user/lib/python3.6/site-packages/pandas/core/frame.py\u001b[0m in \u001b[0;36m__getitem__\u001b[0;34m(self, key)\u001b[0m\n\u001b[1;32m   2686\u001b[0m             \u001b[0;32mreturn\u001b[0m \u001b[0mself\u001b[0m\u001b[0;34m.\u001b[0m\u001b[0m_getitem_multilevel\u001b[0m\u001b[0;34m(\u001b[0m\u001b[0mkey\u001b[0m\u001b[0;34m)\u001b[0m\u001b[0;34m\u001b[0m\u001b[0m\n\u001b[1;32m   2687\u001b[0m         \u001b[0;32melse\u001b[0m\u001b[0;34m:\u001b[0m\u001b[0;34m\u001b[0m\u001b[0m\n\u001b[0;32m-> 2688\u001b[0;31m             \u001b[0;32mreturn\u001b[0m \u001b[0mself\u001b[0m\u001b[0;34m.\u001b[0m\u001b[0m_getitem_column\u001b[0m\u001b[0;34m(\u001b[0m\u001b[0mkey\u001b[0m\u001b[0;34m)\u001b[0m\u001b[0;34m\u001b[0m\u001b[0m\n\u001b[0m\u001b[1;32m   2689\u001b[0m \u001b[0;34m\u001b[0m\u001b[0m\n\u001b[1;32m   2690\u001b[0m     \u001b[0;32mdef\u001b[0m \u001b[0m_getitem_column\u001b[0m\u001b[0;34m(\u001b[0m\u001b[0mself\u001b[0m\u001b[0;34m,\u001b[0m \u001b[0mkey\u001b[0m\u001b[0;34m)\u001b[0m\u001b[0;34m:\u001b[0m\u001b[0;34m\u001b[0m\u001b[0m\n",
      "\u001b[0;32m/opt/tljh/user/lib/python3.6/site-packages/pandas/core/frame.py\u001b[0m in \u001b[0;36m_getitem_column\u001b[0;34m(self, key)\u001b[0m\n\u001b[1;32m   2693\u001b[0m         \u001b[0;31m# get column\u001b[0m\u001b[0;34m\u001b[0m\u001b[0;34m\u001b[0m\u001b[0m\n\u001b[1;32m   2694\u001b[0m         \u001b[0;32mif\u001b[0m \u001b[0mself\u001b[0m\u001b[0;34m.\u001b[0m\u001b[0mcolumns\u001b[0m\u001b[0;34m.\u001b[0m\u001b[0mis_unique\u001b[0m\u001b[0;34m:\u001b[0m\u001b[0;34m\u001b[0m\u001b[0m\n\u001b[0;32m-> 2695\u001b[0;31m             \u001b[0;32mreturn\u001b[0m \u001b[0mself\u001b[0m\u001b[0;34m.\u001b[0m\u001b[0m_get_item_cache\u001b[0m\u001b[0;34m(\u001b[0m\u001b[0mkey\u001b[0m\u001b[0;34m)\u001b[0m\u001b[0;34m\u001b[0m\u001b[0m\n\u001b[0m\u001b[1;32m   2696\u001b[0m \u001b[0;34m\u001b[0m\u001b[0m\n\u001b[1;32m   2697\u001b[0m         \u001b[0;31m# duplicate columns & possible reduce dimensionality\u001b[0m\u001b[0;34m\u001b[0m\u001b[0;34m\u001b[0m\u001b[0m\n",
      "\u001b[0;32m/opt/tljh/user/lib/python3.6/site-packages/pandas/core/generic.py\u001b[0m in \u001b[0;36m_get_item_cache\u001b[0;34m(self, item)\u001b[0m\n\u001b[1;32m   2487\u001b[0m         \u001b[0mres\u001b[0m \u001b[0;34m=\u001b[0m \u001b[0mcache\u001b[0m\u001b[0;34m.\u001b[0m\u001b[0mget\u001b[0m\u001b[0;34m(\u001b[0m\u001b[0mitem\u001b[0m\u001b[0;34m)\u001b[0m\u001b[0;34m\u001b[0m\u001b[0m\n\u001b[1;32m   2488\u001b[0m         \u001b[0;32mif\u001b[0m \u001b[0mres\u001b[0m \u001b[0;32mis\u001b[0m \u001b[0;32mNone\u001b[0m\u001b[0;34m:\u001b[0m\u001b[0;34m\u001b[0m\u001b[0m\n\u001b[0;32m-> 2489\u001b[0;31m             \u001b[0mvalues\u001b[0m \u001b[0;34m=\u001b[0m \u001b[0mself\u001b[0m\u001b[0;34m.\u001b[0m\u001b[0m_data\u001b[0m\u001b[0;34m.\u001b[0m\u001b[0mget\u001b[0m\u001b[0;34m(\u001b[0m\u001b[0mitem\u001b[0m\u001b[0;34m)\u001b[0m\u001b[0;34m\u001b[0m\u001b[0m\n\u001b[0m\u001b[1;32m   2490\u001b[0m             \u001b[0mres\u001b[0m \u001b[0;34m=\u001b[0m \u001b[0mself\u001b[0m\u001b[0;34m.\u001b[0m\u001b[0m_box_item_values\u001b[0m\u001b[0;34m(\u001b[0m\u001b[0mitem\u001b[0m\u001b[0;34m,\u001b[0m \u001b[0mvalues\u001b[0m\u001b[0;34m)\u001b[0m\u001b[0;34m\u001b[0m\u001b[0m\n\u001b[1;32m   2491\u001b[0m             \u001b[0mcache\u001b[0m\u001b[0;34m[\u001b[0m\u001b[0mitem\u001b[0m\u001b[0;34m]\u001b[0m \u001b[0;34m=\u001b[0m \u001b[0mres\u001b[0m\u001b[0;34m\u001b[0m\u001b[0m\n",
      "\u001b[0;32m/opt/tljh/user/lib/python3.6/site-packages/pandas/core/internals.py\u001b[0m in \u001b[0;36mget\u001b[0;34m(self, item, fastpath)\u001b[0m\n\u001b[1;32m   4113\u001b[0m \u001b[0;34m\u001b[0m\u001b[0m\n\u001b[1;32m   4114\u001b[0m             \u001b[0;32mif\u001b[0m \u001b[0;32mnot\u001b[0m \u001b[0misna\u001b[0m\u001b[0;34m(\u001b[0m\u001b[0mitem\u001b[0m\u001b[0;34m)\u001b[0m\u001b[0;34m:\u001b[0m\u001b[0;34m\u001b[0m\u001b[0m\n\u001b[0;32m-> 4115\u001b[0;31m                 \u001b[0mloc\u001b[0m \u001b[0;34m=\u001b[0m \u001b[0mself\u001b[0m\u001b[0;34m.\u001b[0m\u001b[0mitems\u001b[0m\u001b[0;34m.\u001b[0m\u001b[0mget_loc\u001b[0m\u001b[0;34m(\u001b[0m\u001b[0mitem\u001b[0m\u001b[0;34m)\u001b[0m\u001b[0;34m\u001b[0m\u001b[0m\n\u001b[0m\u001b[1;32m   4116\u001b[0m             \u001b[0;32melse\u001b[0m\u001b[0;34m:\u001b[0m\u001b[0;34m\u001b[0m\u001b[0m\n\u001b[1;32m   4117\u001b[0m                 \u001b[0mindexer\u001b[0m \u001b[0;34m=\u001b[0m \u001b[0mnp\u001b[0m\u001b[0;34m.\u001b[0m\u001b[0marange\u001b[0m\u001b[0;34m(\u001b[0m\u001b[0mlen\u001b[0m\u001b[0;34m(\u001b[0m\u001b[0mself\u001b[0m\u001b[0;34m.\u001b[0m\u001b[0mitems\u001b[0m\u001b[0;34m)\u001b[0m\u001b[0;34m)\u001b[0m\u001b[0;34m[\u001b[0m\u001b[0misna\u001b[0m\u001b[0;34m(\u001b[0m\u001b[0mself\u001b[0m\u001b[0;34m.\u001b[0m\u001b[0mitems\u001b[0m\u001b[0;34m)\u001b[0m\u001b[0;34m]\u001b[0m\u001b[0;34m\u001b[0m\u001b[0m\n",
      "\u001b[0;32m/opt/tljh/user/lib/python3.6/site-packages/pandas/core/indexes/base.py\u001b[0m in \u001b[0;36mget_loc\u001b[0;34m(self, key, method, tolerance)\u001b[0m\n\u001b[1;32m   3078\u001b[0m                 \u001b[0;32mreturn\u001b[0m \u001b[0mself\u001b[0m\u001b[0;34m.\u001b[0m\u001b[0m_engine\u001b[0m\u001b[0;34m.\u001b[0m\u001b[0mget_loc\u001b[0m\u001b[0;34m(\u001b[0m\u001b[0mkey\u001b[0m\u001b[0;34m)\u001b[0m\u001b[0;34m\u001b[0m\u001b[0m\n\u001b[1;32m   3079\u001b[0m             \u001b[0;32mexcept\u001b[0m \u001b[0mKeyError\u001b[0m\u001b[0;34m:\u001b[0m\u001b[0;34m\u001b[0m\u001b[0m\n\u001b[0;32m-> 3080\u001b[0;31m                 \u001b[0;32mreturn\u001b[0m \u001b[0mself\u001b[0m\u001b[0;34m.\u001b[0m\u001b[0m_engine\u001b[0m\u001b[0;34m.\u001b[0m\u001b[0mget_loc\u001b[0m\u001b[0;34m(\u001b[0m\u001b[0mself\u001b[0m\u001b[0;34m.\u001b[0m\u001b[0m_maybe_cast_indexer\u001b[0m\u001b[0;34m(\u001b[0m\u001b[0mkey\u001b[0m\u001b[0;34m)\u001b[0m\u001b[0;34m)\u001b[0m\u001b[0;34m\u001b[0m\u001b[0m\n\u001b[0m\u001b[1;32m   3081\u001b[0m \u001b[0;34m\u001b[0m\u001b[0m\n\u001b[1;32m   3082\u001b[0m         \u001b[0mindexer\u001b[0m \u001b[0;34m=\u001b[0m \u001b[0mself\u001b[0m\u001b[0;34m.\u001b[0m\u001b[0mget_indexer\u001b[0m\u001b[0;34m(\u001b[0m\u001b[0;34m[\u001b[0m\u001b[0mkey\u001b[0m\u001b[0;34m]\u001b[0m\u001b[0;34m,\u001b[0m \u001b[0mmethod\u001b[0m\u001b[0;34m=\u001b[0m\u001b[0mmethod\u001b[0m\u001b[0;34m,\u001b[0m \u001b[0mtolerance\u001b[0m\u001b[0;34m=\u001b[0m\u001b[0mtolerance\u001b[0m\u001b[0;34m)\u001b[0m\u001b[0;34m\u001b[0m\u001b[0m\n",
      "\u001b[0;32mpandas/_libs/index.pyx\u001b[0m in \u001b[0;36mpandas._libs.index.IndexEngine.get_loc\u001b[0;34m()\u001b[0m\n",
      "\u001b[0;32mpandas/_libs/index.pyx\u001b[0m in \u001b[0;36mpandas._libs.index.IndexEngine.get_loc\u001b[0;34m()\u001b[0m\n",
      "\u001b[0;32mpandas/_libs/hashtable_class_helper.pxi\u001b[0m in \u001b[0;36mpandas._libs.hashtable.PyObjectHashTable.get_item\u001b[0;34m()\u001b[0m\n",
      "\u001b[0;32mpandas/_libs/hashtable_class_helper.pxi\u001b[0m in \u001b[0;36mpandas._libs.hashtable.PyObjectHashTable.get_item\u001b[0;34m()\u001b[0m\n",
      "\u001b[0;31mKeyError\u001b[0m: 'year_label'"
     ]
    }
   ],
   "source": [
    "# Convert years into decade bins and creating dummy variables\n",
    "def assign_decade(year):\n",
    "    if year < 1920:\n",
    "        return 1910\n",
    "    elif year >= 1920 and year <= 1929:\n",
    "        return 1920\n",
    "    elif year >= 1930 and year <= 1939:\n",
    "        return 1930\n",
    "    elif year >= 1940 and year <= 1949:\n",
    "        return 1940\n",
    "    elif year >= 1950 and year <= 1959:\n",
    "        return 1950\n",
    "    elif year >= 1960 and year <= 1969:\n",
    "        return 1960\n",
    "    elif year >= 1970 and year <= 1979:\n",
    "        return 1970\n",
    "    elif year >= 1980 and year <= 1989:\n",
    "        return 1980\n",
    "    elif year >= 1990 and year <= 1999:\n",
    "        return 1990\n",
    "    elif year >= 2000 and year <= 2009:\n",
    "        return 2000\n",
    "    elif year >= 2010:\n",
    "        return 2010\n",
    "    \n",
    "#### complete the code below\n",
    "#### Add `decade_label` column to `df`\n",
    "#### by applying `assign_decade` function to the `df['yearID'] column\n",
    "df['decade_label'] = df['yearID'].apply(assign_decade)\n",
    "\n",
    "#### create dummy variables for `year_label`\n",
    "#### call `pd.get_dummies` on `df['year_label']`\n",
    "#### set the `prefix` parameter of `get_dummies` to `'era'`\n",
    "#### store the results in a dataframe `decade_df`\n",
    "\n",
    "pd.get_dummies(df['year_label'])\n",
    "\n",
    "#### Concatenate `df` and `decade_df` using pd.concat()\n",
    "pd.concat('decade_df')\n",
    "\n",
    "#### Check if above actions are done properly\n",
    "#### by looking at the first 5 rows of `df`\n",
    "df.head(5)"
   ]
  },
  {
   "cell_type": "markdown",
   "metadata": {},
   "source": [
    "The next step in __feature engineering__ is to remove all unwanted features, in this case, we used `yearID`, `year_level`, and `decade_level` to generate new dummy variables - thus we do not need them any more."
   ]
  },
  {
   "cell_type": "code",
   "execution_count": null,
   "metadata": {
    "collapsed": true
   },
   "outputs": [],
   "source": [
    "#### complete your code here\n",
    "df = df.drop('yearID', 'year_level', 'decade_level')\n"
   ]
  },
  {
   "cell_type": "markdown",
   "metadata": {},
   "source": [
    "_Runs per Game_ and _Runs Allowed per Game_ (at __game__ level, not aggregated) are important features in the baseball domain. Now let us go ahead and create them."
   ]
  },
  {
   "cell_type": "code",
   "execution_count": null,
   "metadata": {
    "collapsed": true
   },
   "outputs": [],
   "source": [
    "#### Complete your code below\n",
    "#### runs per game = # of runs/# of games\n",
    "#### # of runs is in `df['R']`\n",
    "#### # of games is in `df['G']`\n",
    "runs_per_game=  df['R'] / df['G']\n",
    "\n",
    "#### runs allowed per game = # of runs allowed/# of games\n",
    "#### # of runs allowed is in `df['RA']\n",
    "runs_allowed = df['RA']\n",
    "\n",
    "#### double check whether our calculations are successful or not\n",
    "#### by looking at the first 10 columns of `df`\n",
    "df.head"
   ]
  },
  {
   "cell_type": "code",
   "execution_count": null,
   "metadata": {
    "collapsed": true
   },
   "outputs": [],
   "source": [
    "df.RA_per_game.describe()"
   ]
  },
  {
   "cell_type": "markdown",
   "metadata": {},
   "source": [
    "### Correlation Analysis\n",
    "\n",
    "Correlation analysis is an important topic in data analysis, which is also a basis of feature engineering. You want to select features that are __highly__ correlated with your target variable. \n",
    "\n",
    "__Note__: in the meanwhile, if you are using linear models, such as linear regression, decision tree, or naive Bayes, you do not want more than __one__ features are __highly__ correlated.\n",
    "\n",
    "Correlation analysis can be done in several ways: one of the most direct is using the `corr()` method provided in `pandas`. In this part, we are going to calulate the correlation between a particular feature and the target using `numpy`, and then visualize the correlation trends.\n",
    "\n",
    "In above analysis, we believe that **Runs per Game** and **Runs Allowed per Game** are two important features in predicting our target (`win`). We are going to visualize the correlation between each of them and `win` to prove that."
   ]
  },
  {
   "cell_type": "code",
   "execution_count": 20,
   "metadata": {
    "collapsed": true
   },
   "outputs": [
    {
     "ename": "NameError",
     "evalue": "name 'plt' is not defined",
     "output_type": "error",
     "traceback": [
      "\u001b[0;31m---------------------------------------------------------------------------\u001b[0m",
      "\u001b[0;31mNameError\u001b[0m                                 Traceback (most recent call last)",
      "\u001b[0;32m<ipython-input-20-6b6f91f7a935>\u001b[0m in \u001b[0;36m<module>\u001b[0;34m()\u001b[0m\n\u001b[1;32m      1\u001b[0m \u001b[0;31m# create a variable called `fig` which contains the size of a figure\u001b[0m\u001b[0;34m\u001b[0m\u001b[0;34m\u001b[0m\u001b[0m\n\u001b[0;32m----> 2\u001b[0;31m \u001b[0mfig\u001b[0m \u001b[0;34m=\u001b[0m \u001b[0mplt\u001b[0m\u001b[0;34m.\u001b[0m\u001b[0mfigure\u001b[0m\u001b[0;34m(\u001b[0m\u001b[0mfigsize\u001b[0m\u001b[0;34m=\u001b[0m\u001b[0;34m(\u001b[0m\u001b[0;36m12\u001b[0m\u001b[0;34m,\u001b[0m \u001b[0;36m6\u001b[0m\u001b[0;34m)\u001b[0m\u001b[0;34m)\u001b[0m\u001b[0;34m\u001b[0m\u001b[0m\n\u001b[0m\u001b[1;32m      3\u001b[0m \u001b[0;34m\u001b[0m\u001b[0m\n\u001b[1;32m      4\u001b[0m \u001b[0;31m# create two sub-figures, one for `runs per game`, one for `runs allowed per game`\u001b[0m\u001b[0;34m\u001b[0m\u001b[0;34m\u001b[0m\u001b[0m\n\u001b[1;32m      5\u001b[0m \u001b[0max1\u001b[0m \u001b[0;34m=\u001b[0m \u001b[0mfig\u001b[0m\u001b[0;34m.\u001b[0m\u001b[0madd_subplot\u001b[0m\u001b[0;34m(\u001b[0m\u001b[0;36m1\u001b[0m\u001b[0;34m,\u001b[0m\u001b[0;36m2\u001b[0m\u001b[0;34m,\u001b[0m\u001b[0;36m1\u001b[0m\u001b[0;34m)\u001b[0m\u001b[0;34m\u001b[0m\u001b[0m\n",
      "\u001b[0;31mNameError\u001b[0m: name 'plt' is not defined"
     ]
    }
   ],
   "source": [
    "# create a variable called `fig` which contains the size of a figure\n",
    "fig = plt.figure(figsize=(12, 6))\n",
    "\n",
    "# create two sub-figures, one for `runs per game`, one for `runs allowed per game`\n",
    "ax1 = fig.add_subplot(1,2,1)\n",
    "ax2 = fig.add_subplot(1,2,2)\n",
    "\n",
    "# define the axis we use in the figure\n",
    "x1 = df['R_per_game']\n",
    "x2 = df['RA_per_game']\n",
    "y = df['W']\n",
    "\n",
    "#### Complete your code here\n",
    "#### We are using scatterplot to visualize the correlation trend - which is the common practice\n",
    "#### if you don't remember how to create a scatterplot, please refer to part 1\n",
    "#### in the 1st sub-figure (`ax1`), we define the x-axis as 'Runs per Game'\n",
    "#### and y-axis as 'Wins', and color as 'blue'\n",
    " \n",
    "plt.scatter (x1,x2,y , color='blue') \n",
    "#### You will also add title as 'Runs per Game vs. Wins'\n",
    "plt.title('Runs per Games vs. Wins')\n",
    "#### and then add proper axis names to it\n",
    "plt.xlabel('Runs')\n",
    "plt.ylabel('Wins')\n",
    "\n",
    "# To better visualize the correlation trend, we are going to add trend line to it\n",
    "# Following snippet add trend line of correlation to `ax1`\n",
    "\n",
    "z = np.polyfit(x1, y, 1)\n",
    "p = np.poly1d(z)\n",
    "ax1.plot(x1,p(x1),\"r--\")\n",
    "\n",
    "#### complete your code here\n",
    "#### similarly, we are going to visualize the correlation between `runs allowed per game`\n",
    "#### and `Wins` in `ax2`, we set the color to 'red'\n",
    "plt.scatter( ax1,ax2,y , color= 'red')\n",
    "\n",
    "#### You will also add title as 'Runs Allowed per Game vs. Wins'\n",
    "plt.title('Runs Allowed per Game vs. Wins')\n",
    "#### you will then add x-axis label to `ax2` - note that you do not need \n",
    "#### to add y-axis label since it is shared with `ax1`\n",
    "plt.xlabel('Runs')\n",
    "\n",
    "# We will use the similar code as above to add trend line in `ax2`\n",
    "z1 = np.polyfit(x2, y, 1)\n",
    "p1 = np.poly1d(z1)\n",
    "ax2.plot(x2,p1(x2),\"g--\")\n",
    "\n",
    "#### show the plot\n",
    "plt.show()"
   ]
  },
  {
   "cell_type": "markdown",
   "metadata": {},
   "source": [
    "Can you observe the different correlation trends in above visualization?\n",
    "\n",
    "To see how each of the variables is correlated with the target variable, we will use the `corr()` method provided by `Pandas`."
   ]
  },
  {
   "cell_type": "code",
   "execution_count": null,
   "metadata": {
    "collapsed": true
   },
   "outputs": [],
   "source": [
    "#### complete your code below\n",
    "#### check if features are highly correlated with Wins(`df['W']`) (>.5)\n"
   ]
  },
  {
   "cell_type": "markdown",
   "metadata": {},
   "source": [
    "You can observe some features are __highly__ correlated with Wins.\n",
    "\n",
    "However, that is not the whole picture - for instance, `RA_per_game` is not highly correlated with Wins. In fact, a feature can be __highly__ and __negatively__ correlated with your target.\n",
    "\n",
    "So the correct code should reflect that."
   ]
  },
  {
   "cell_type": "code",
   "execution_count": null,
   "metadata": {
    "collapsed": true
   },
   "outputs": [],
   "source": [
    "#### complete your code below\n",
    "#### check if features are highly correlated with Wins(`df['W']`) (>.5 or <-.5)\n",
    "data_features.corr()['W'] >.5 or <.5"
   ]
  },
  {
   "cell_type": "markdown",
   "metadata": {},
   "source": [
    "Now you can observe a few more are __highly__ correlated with Wins, such as `RA_per_game`.\n",
    "\n",
    "Above code is equivalent to:"
   ]
  },
  {
   "cell_type": "code",
   "execution_count": null,
   "metadata": {
    "collapsed": true
   },
   "outputs": [],
   "source": [
    "s1 = df.corr()['W'] > 0.5 \n",
    "s2 = df.corr()['W'] < -0.5\n",
    "s1 | s2 # logical OR"
   ]
  },
  {
   "cell_type": "markdown",
   "metadata": {},
   "source": [
    "Now we can create a new dataframe `data_features` that only contains useful features (excluding the target and unwanted features)."
   ]
  },
  {
   "cell_type": "code",
   "execution_count": null,
   "metadata": {
    "collapsed": true
   },
   "outputs": [],
   "source": [
    "#Creating a new dataframe excluding the target variable \n",
    "\n",
    "attributes = ['G','R','AB','H','2B','3B','HR','BB','SO','SB','RA','ER','ERA','CG',\n",
    "             'SHO','SV','IPouts','HA','HRA','BBA','SOA','E','DP','FP','decade_1910','decade_1920',\n",
    "              'decade_1930','decade_1940','decade_1950','decade_1960','decade_1970','decade_1980',\n",
    "              'decade_1990','decade_2000','decade_2010','R_per_game','RA_per_game','rpg']\n",
    "\n",
    "data_features = df[attributes]\n",
    "\n",
    "# check the first 5 rows of `data_features`\n",
    "data_features.head(5)"
   ]
  },
  {
   "cell_type": "markdown",
   "metadata": {},
   "source": [
    "We can use following code to determine what columns are excluded in `data_features`."
   ]
  },
  {
   "cell_type": "code",
   "execution_count": null,
   "metadata": {
    "collapsed": true
   },
   "outputs": [],
   "source": [
    "set(df.columns) - set(data_features.columns)"
   ]
  },
  {
   "cell_type": "markdown",
   "metadata": {},
   "source": [
    "I believe we complete the data preparation phase of the analysis.\n",
    "\n",
    "Let's save the processed data to CSV files so that we can re-use it in part 3."
   ]
  },
  {
   "cell_type": "code",
   "execution_count": null,
   "metadata": {
    "collapsed": true
   },
   "outputs": [],
   "source": [
    "# save all features to a CSV file `baseball_analytics_features.csv`\n",
    "data_features.to_csv('../data/baseball_analytics_features.csv')\n",
    "\n",
    "# don't forget to save the target variable to another CSV file `baseball_analytics_target.csv`\n",
    "df.Win_bins.to_csv('../data/baseball_analytics_target.csv')\n",
    "\n",
    "# we also want to save the # of wins in the original data for further analysis\n",
    "df.W.to_csv('../data/baseball_analytics_wins.csv')"
   ]
  },
  {
   "cell_type": "markdown",
   "metadata": {},
   "source": [
    "That's all for part 2. Please make sure your sync the complete notebook to your github repo for submission."
   ]
  },
  {
   "cell_type": "code",
   "execution_count": null,
   "metadata": {
    "collapsed": true
   },
   "outputs": [],
   "source": []
  }
 ],
 "metadata": {
  "kernelspec": {
   "display_name": "Python 3",
   "language": "python",
   "name": "python3"
  },
  "language_info": {
   "codemirror_mode": {
    "name": "ipython",
    "version": 3
   },
   "file_extension": ".py",
   "mimetype": "text/x-python",
   "name": "python",
   "nbconvert_exporter": "python",
   "pygments_lexer": "ipython3",
   "version": "3.6.5"
  }
 },
 "nbformat": 4,
 "nbformat_minor": 2
}
